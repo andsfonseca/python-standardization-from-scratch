{
 "cells": [
  {
   "cell_type": "markdown",
   "source": [
    "## Standardization-from-scratch\r\n",
    "<hr>\r\n",
    "\r\n",
    "This is an example of how to perform a standardization without performing very complex procedures.\r\n",
    "\r\n",
    "This notebook was based on the step-by-step instructions presented in this video:\r\n",
    "> [![Vídeo](https://img.youtube.com/vi/FDCfw-YqWTE/0.jpg)](https://www.youtube.com/watch?v=FDCfw-YqWTE)"
   ],
   "metadata": {}
  },
  {
   "cell_type": "code",
   "execution_count": 1,
   "source": [
    "#Imports\r\n",
    "import matplotlib.pyplot as plt\r\n",
    "import numpy as np"
   ],
   "outputs": [],
   "metadata": {}
  },
  {
   "cell_type": "markdown",
   "source": [
    "### Data Generation\n",
    "Generating the data used in this example "
   ],
   "metadata": {}
  },
  {
   "cell_type": "code",
   "execution_count": 2,
   "source": [
    "#Global Variables\r\n",
    "MIN_X1 = 1\r\n",
    "MAX_X1 = 5\r\n",
    "MIN_X2 = 1\r\n",
    "MAX_X2 = 2\r\n",
    "N_SAMPLES = 50\r\n",
    "N_FEATURES = 2"
   ],
   "outputs": [],
   "metadata": {}
  },
  {
   "cell_type": "code",
   "execution_count": 3,
   "source": [
    "def GenerateDataset(n_samples, n_features, feature_range=None):\r\n",
    "    \"\"\"\r\n",
    "    Generates data between the informed limits\r\n",
    "    Parameters:\r\n",
    "    n_samples (int): Number of samples.\r\n",
    "    n_features (int): Number of features.\r\n",
    "    feature_range (Array): Limits for each reported feature \r\n",
    "  \r\n",
    "    Returns:\r\n",
    "    np.array: Generated Dataset\r\n",
    "    \"\"\"\r\n",
    "    data = np.random.rand(n_samples,n_features)\r\n",
    "    \r\n",
    "    if(feature_range):\r\n",
    "        for i in range(n_features):\r\n",
    "            aux = feature_range[i][1] - feature_range[i][0]\r\n",
    "            data[:,i] *= aux\r\n",
    "            data[:,i] += feature_range[i][0]\r\n",
    "            \r\n",
    "    return data\r\n",
    "\r\n",
    "X = GenerateDataset(N_SAMPLES, N_FEATURES, [[MIN_X1, MAX_X1], [MIN_X2, MAX_X2]])\r\n",
    "Z = X.copy()"
   ],
   "outputs": [],
   "metadata": {}
  },
  {
   "cell_type": "code",
   "execution_count": 4,
   "source": [
    "#Dataset View\r\n",
    "plt.xlim(MIN_X1-1, MAX_X1+1)\r\n",
    "plt.ylim(MIN_X2-1, MAX_X2+1)\r\n",
    "plt.scatter(X[:, 0], X[:, 1], marker='o',\r\n",
    "            s=25, edgecolor='k')\r\n",
    "plt.show()"
   ],
   "outputs": [
    {
     "output_type": "display_data",
     "data": {
      "text/plain": [
       "<Figure size 432x288 with 1 Axes>"
      ],
      "image/png": "[encoded data removed]"
     },
     "metadata": {
      "needs_background": "light"
     }
    }
   ],
   "metadata": {}
  },
  {
   "cell_type": "markdown",
   "source": [
    "### Mean subtraction \n",
    "First step: Subtract the average calculated for all features in the dataset "
   ],
   "metadata": {}
  },
  {
   "cell_type": "code",
   "execution_count": 5,
   "source": [
    "mean = np.mean(X, axis=0)\r\n",
    "for i in range(N_FEATURES):\r\n",
    "    X[:,i] -= mean[i] "
   ],
   "outputs": [],
   "metadata": {}
  },
  {
   "cell_type": "code",
   "execution_count": 6,
   "source": [
    "#Dataset View\r\n",
    "plt.xlim(MIN_X1-1-mean[0], MAX_X1+1-mean[0])\r\n",
    "plt.ylim(MIN_X2-1-mean[1], MAX_X2+1-mean[1])\r\n",
    "plt.scatter(X[:, 0], X[:, 1], marker='o',\r\n",
    "            s=25, edgecolor='k')\r\n",
    "plt.show()"
   ],
   "outputs": [
    {
     "output_type": "display_data",
     "data": {
      "text/plain": [
       "<Figure size 432x288 with 1 Axes>"
      ],
      "image/png": "[encoded data removed]"
     },
     "metadata": {
      "needs_background": "light"
     }
    }
   ],
   "metadata": {}
  },
  {
   "cell_type": "markdown",
   "source": [
    "### Normalize the variance\n",
    "Second step: Normalize dataset variances so that they all have the same distribution."
   ],
   "metadata": {}
  },
  {
   "cell_type": "code",
   "execution_count": 7,
   "source": [
    "std = np.std(X, axis=0)\r\n",
    "for i in range(N_FEATURES):\r\n",
    "    X[:,i] /= std[i]"
   ],
   "outputs": [],
   "metadata": {}
  },
  {
   "cell_type": "code",
   "execution_count": 8,
   "source": [
    "#Dataset View\r\n",
    "plt.figure(figsize=(4,4))\r\n",
    "plt.scatter(X[:, 0], X[:, 1], marker='o',\r\n",
    "            s=25, edgecolor='k')\r\n",
    "plt.show()"
   ],
   "outputs": [
    {
     "output_type": "display_data",
     "data": {
      "text/plain": [
       "<Figure size 288x288 with 1 Axes>"
      ],
      "image/png": "[encoded data removed]"
     },
     "metadata": {
      "needs_background": "light"
     }
    }
   ],
   "metadata": {}
  },
  {
   "cell_type": "markdown",
   "source": [
    "### Experiments: Data between -1 and 1 \n",
    "A simple example for putting data between -1 and 1 "
   ],
   "metadata": {}
  },
  {
   "cell_type": "code",
   "execution_count": 9,
   "source": [
    "max1 = np.max(np.absolute(X))\r\n",
    "X /= max1"
   ],
   "outputs": [],
   "metadata": {}
  },
  {
   "cell_type": "code",
   "execution_count": 10,
   "source": [
    "#Dataset View\r\n",
    "plt.figure(figsize=(4,4))\r\n",
    "plt.xlim(-1, 1)\r\n",
    "plt.ylim(-1, 1)\r\n",
    "plt.scatter(X[:, 0], X[:, 1], marker='o',\r\n",
    "            s=25, edgecolor='k')\r\n",
    "plt.show()"
   ],
   "outputs": [
    {
     "output_type": "display_data",
     "data": {
      "text/plain": [
       "<Figure size 288x288 with 1 Axes>"
      ],
      "image/png": "[encoded data removed]"
     },
     "metadata": {
      "needs_background": "light"
     }
    }
   ],
   "metadata": {}
  }
 ],
 "metadata": {
  "kernelspec": {
   "name": "python3",
   "display_name": "Python 3.8.8 64-bit ('work': conda)"
  },
  "language_info": {
   "codemirror_mode": {
    "name": "ipython",
    "version": 3
   },
   "file_extension": ".py",
   "mimetype": "text/x-python",
   "name": "python",
   "nbconvert_exporter": "python",
   "pygments_lexer": "ipython3",
   "version": "3.8.8"
  },
  "interpreter": {
   "hash": "046c87d16d32610f63200986b8d25b56e3b1110cd6a02e21a7661f99d450aeb6"
  }
 },
 "nbformat": 4,
 "nbformat_minor": 5
}